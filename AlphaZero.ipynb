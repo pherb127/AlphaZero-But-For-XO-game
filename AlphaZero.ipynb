{
 "cells": [
  {
   "cell_type": "markdown",
   "id": "59eb9e2c-070c-4ecb-9736-1ece964d2de7",
   "metadata": {},
   "source": [
    "# Overview #\n",
    "The goal of this personal project is to implement the AlphaZero algorithm to familiarize myself with Machine Learning and AI. I have learned a lot in my Machine Learning Class at Carnegie Mellon University, and now it is time for me to try out more complex algorithms such as AlphaZero! This is the last step of another course I have taken online on Free Code Camp called \"AlphaZero from Scratch\".\n",
    "Although AlphaZero was initially implemented for Go! and Chess, I unfortunately do not have the computing power to train the model on such complex games. I therefore decided to implement it on the tic-tac-toe game as proposed in the online course. However, this change only reflects how powerful and versatile the AlphaZero algorithm actually is. "
   ]
  },
  {
   "cell_type": "markdown",
   "id": "4c1481ad-dc4e-485c-a5f9-d41c09608d73",
   "metadata": {},
   "source": [
    "# Step 1 # : Define the Tic-Tac-Toe rules\n",
    "The first step is to set the rules of the tic-tac-toe game for our program to follow. "
   ]
  },
  {
   "cell_type": "code",
   "execution_count": 1,
   "id": "041ada9c-a8b4-4d1b-b39d-005fa98d970b",
   "metadata": {},
   "outputs": [
    {
     "data": {
      "text/plain": [
       "'1.24.3'"
      ]
     },
     "execution_count": 1,
     "metadata": {},
     "output_type": "execute_result"
    }
   ],
   "source": [
    "import numpy as np\n",
    "#for those of you who might be interested in my version of numpy :\n",
    "np.__version__"
   ]
  },
  {
   "cell_type": "code",
   "execution_count": 2,
   "id": "5ff6c032-7bcb-41f5-9b23-05ab292c2205",
   "metadata": {},
   "outputs": [],
   "source": [
    "#We first start by defining a class TicTacToe :\n",
    "class TicTacToe:\n",
    "    #Initialize the game board parameters\n",
    "    def __init__(self):\n",
    "        self.row_count = 3 \n",
    "        self.column_count = 3\n",
    "        self.action_size = self.row_count * self.column_count # action is an integer between 0 and 8 that indicates which case we decided to play in\n",
    "\n",
    "    # Initialize the board to an array of zeros\n",
    "    def get_initial_state(self):\n",
    "        return np.zeros((self.row_count, self.column_count))     \n",
    "\n",
    "    def get_next_state(self, state, action, player):        \n",
    "        row = action // self.row_count # integer division to get the row coordinate of the action\n",
    "        column = action % self.column_count\n",
    "        state[row, column] = player #player is either X or O\n",
    "        return state\n",
    "\n",
    "    def get_valid_moves(self, state):\n",
    "        return (state.reshape(-1) == 0).astype(np.uint8) # first we flatten the state and we check if the state is equal to 0. The type uint allow us to get from type boolean to type unsigned int\n",
    "\n",
    "    def check_win(self, state, action):\n",
    "        row = action // self.row_count\n",
    "        column = action % self.column_count\n",
    "        player = state[row, column]\n",
    "        #check all 4 win conditions\n",
    "        return (\n",
    "            np.sum(state[row, :]) == player * self.column_count # 3 at horizontal\n",
    "            or np.sum(state[:, column]) == player * self.row_count # 3 at vertical\n",
    "            or np.sum(np.diag(state)) == player * self.column_count # 3 at diagonal\n",
    "            or np.sum(np.diag(np.flip(state, axis=0))) == player * self.column_count # 3 at antidiagonal\n",
    "        )\n",
    "\n",
    "    def get_value_and_terminated(self, state, action):\n",
    "        if self.check_win(state, action):\n",
    "            return 1, True   # someone has won, we return true\n",
    "        elif np.sum(self.get_valid_moves(state)) == 0:\n",
    "            return 0, True # no one has won and there are no valid moves left, we return true since the game has ended\n",
    "        return 0, False # no one has won and the game can still be played\n",
    "\n",
    "    def get_opponent(self, player):\n",
    "        return -player"
   ]
  },
  {
   "cell_type": "code",
   "execution_count": 3,
   "id": "6024e2df-a902-4e42-bc24-08c1573d8352",
   "metadata": {},
   "outputs": [
    {
     "name": "stdout",
     "output_type": "stream",
     "text": [
      "[[0. 0. 0.]\n",
      " [0. 0. 0.]\n",
      " [0. 0. 0.]]\n",
      "valid moves [0, 1, 2, 3, 4, 5, 6, 7, 8]\n"
     ]
    },
    {
     "name": "stdin",
     "output_type": "stream",
     "text": [
      "1: 1\n"
     ]
    },
    {
     "name": "stdout",
     "output_type": "stream",
     "text": [
      "[[0. 1. 0.]\n",
      " [0. 0. 0.]\n",
      " [0. 0. 0.]]\n",
      "valid moves [0, 2, 3, 4, 5, 6, 7, 8]\n"
     ]
    },
    {
     "name": "stdin",
     "output_type": "stream",
     "text": [
      "-1: 2\n"
     ]
    },
    {
     "name": "stdout",
     "output_type": "stream",
     "text": [
      "[[ 0.  1. -1.]\n",
      " [ 0.  0.  0.]\n",
      " [ 0.  0.  0.]]\n",
      "valid moves [0, 3, 4, 5, 6, 7, 8]\n"
     ]
    },
    {
     "name": "stdin",
     "output_type": "stream",
     "text": [
      "1: 3\n"
     ]
    },
    {
     "name": "stdout",
     "output_type": "stream",
     "text": [
      "[[ 0.  1. -1.]\n",
      " [ 1.  0.  0.]\n",
      " [ 0.  0.  0.]]\n",
      "valid moves [0, 4, 5, 6, 7, 8]\n"
     ]
    },
    {
     "name": "stdin",
     "output_type": "stream",
     "text": [
      "-1: 4\n"
     ]
    },
    {
     "name": "stdout",
     "output_type": "stream",
     "text": [
      "[[ 0.  1. -1.]\n",
      " [ 1. -1.  0.]\n",
      " [ 0.  0.  0.]]\n",
      "valid moves [0, 5, 6, 7, 8]\n"
     ]
    },
    {
     "name": "stdin",
     "output_type": "stream",
     "text": [
      "1: 5\n"
     ]
    },
    {
     "name": "stdout",
     "output_type": "stream",
     "text": [
      "[[ 0.  1. -1.]\n",
      " [ 1. -1.  1.]\n",
      " [ 0.  0.  0.]]\n",
      "valid moves [0, 6, 7, 8]\n"
     ]
    },
    {
     "name": "stdin",
     "output_type": "stream",
     "text": [
      "-1: 6\n"
     ]
    },
    {
     "name": "stdout",
     "output_type": "stream",
     "text": [
      "[[ 0.  1. -1.]\n",
      " [ 1. -1.  1.]\n",
      " [-1.  0.  0.]]\n",
      "-1 won\n"
     ]
    }
   ],
   "source": [
    "TTT = TicTacToe()\n",
    "player = 1\n",
    "\n",
    "state = TTT.get_initial_state()\n",
    "\n",
    "while True:\n",
    "    print(state)\n",
    "    valid_moves = TTT.get_valid_moves(state)\n",
    "    print(\"valid moves\", [i for i in range(TTT.action_size) if valid_moves[i] == 1])\n",
    "    action = int(input(f\"{player}:\"))\n",
    "\n",
    "    if valid_moves[action] == 0:\n",
    "        print(\"action not valid\")\n",
    "        continue\n",
    "\n",
    "    state = TTT.get_next_state(state, action, player)\n",
    "\n",
    "    value, is_terminal = TTT.get_value_and_terminated(state, action)\n",
    "\n",
    "    if is_terminal:\n",
    "        print(state)\n",
    "        if value == 1:\n",
    "            print(player, \"won\")\n",
    "        else:\n",
    "            print(\"draw\")\n",
    "        break\n",
    "\n",
    "    player = TTT.get_opponent(player) # reiterates but for the second player\n",
    "            "
   ]
  },
  {
   "cell_type": "markdown",
   "id": "b8c53f2e-f729-4ada-8994-9ff3d2c0f85a",
   "metadata": {},
   "source": [
    "# Implementing the Monte-Carlo Tree Search (MTCS) #\n",
    "Now that we have implemented our TicTacToe game rules, it is time for us to write the code for the MTCS. This MTCS algorithm is fundamental as it will help us to define the best next move for the current state. For more information about the MTCS, see this link : https://builtin.com/machine-learning/monte-carlo-tree-search"
   ]
  },
  {
   "cell_type": "code",
   "execution_count": null,
   "id": "9c81aa93-94d6-41fa-a35f-ba3082dce174",
   "metadata": {},
   "outputs": [],
   "source": [
    "class Node:\n",
    "    def __init__(self, game, args, state, parent=None, action_taken=None): #parent=None and action_taken=None account for the fact that the root node has no parents\n",
    "        #we define the overall structure of the Monte-Carlo tree\n",
    "        self.game = game\n",
    "        self.args = args\n",
    "        self.state = state\n",
    "        self.parent = parent\n",
    "        self.action_taken = action_taken                            \n",
    "\n",
    "        self.children = []\n",
    "        self.expandable_moves = game.get_valid_moves(state)              \n",
    "        self.visit_count = 0\n",
    "        self.value_sum = 0\n",
    "\n",
    "    def is_fully_expandable(self):    #we only select the nodes that are fully extended for our MTCS. To determine if node is fully extended, we count the number of expandable moves (ie. possible moves) and check if it equal to 0\n",
    "        return np.sum(self.expandable_moves) == 0 and len(self.children) > 0      #additionally, we also consider that node is fully expanded if there is only one leaf node resulting from it (or a leaf branch)\n",
    "\n",
    "    def select(self):\n",
    "        \n",
    "class MTCS:\n",
    "    def __init__(self, game, args):\n",
    "        self.game = game\n",
    "        self.args = args\n",
    "\n",
    "    def search(self, state): #we care about the number of times a node has been visited, therefore we shall return the value visit_counts  \n",
    "        #we define the root node\n",
    "        root = Node(self.game, self.args, state)\n",
    "\n",
    "        for search in range(self.args['num_searches']):\n",
    "            #we perform respectively selection, expansion, simulation, then backpropagation in this order\n",
    "            node = root\n",
    "\n",
    "            #selection :\n",
    "            while node.is_fully_expanded():\n",
    "                node = node.select() \n",
    "\n",
    "\n",
    "            #expansion :\n",
    "\n",
    "\n",
    "            #simulation :\n",
    "\n",
    "\n",
    "            \n",
    "            #backpropagation :"
   ]
  },
  {
   "cell_type": "code",
   "execution_count": null,
   "id": "32da62a5-b35f-4872-a331-40217a767838",
   "metadata": {},
   "outputs": [],
   "source": []
  }
 ],
 "metadata": {
  "kernelspec": {
   "display_name": "Python 3 (ipykernel)",
   "language": "python",
   "name": "python3"
  },
  "language_info": {
   "codemirror_mode": {
    "name": "ipython",
    "version": 3
   },
   "file_extension": ".py",
   "mimetype": "text/x-python",
   "name": "python",
   "nbconvert_exporter": "python",
   "pygments_lexer": "ipython3",
   "version": "3.12.4"
  }
 },
 "nbformat": 4,
 "nbformat_minor": 5
}
